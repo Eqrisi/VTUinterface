{
 "cells": [
  {
   "cell_type": "code",
   "execution_count": 483,
   "metadata": {},
   "outputs": [],
   "source": [
    "import numpy as np\n",
    "import GPy as gpy\n",
    "from vtk import *\n",
    "from vtk.util.numpy_support import numpy_to_vtk\n",
    "from vtk.util.numpy_support import vtk_to_numpy\n",
    "import matplotlib.pyplot as plt\n",
    "from scipy.interpolate import griddata\n",
    "import time"
   ]
  },
  {
   "cell_type": "code",
   "execution_count": 484,
   "metadata": {},
   "outputs": [],
   "source": [
    "numofinterpolneighbors = 10"
   ]
  },
  {
   "cell_type": "code",
   "execution_count": 485,
   "metadata": {},
   "outputs": [],
   "source": [
    "#plt.rcParams.update(plt.rcParamsDefault)\n",
    "#plt.style.use(['seaborn-poster'])\n",
    "#seaborn-paper\n",
    "#seaborn-poster\n",
    "#seaborn-notebook\n",
    "#seaborn-talk\n",
    "#plt.rcParams['lines.linewidth']= 2.0\n",
    "#plt.rcParams['lines.color']= 'black'\n",
    "#plt.rcParams['legend.frameon']=True\n",
    "plt.rcParams['figure.figsize'] = (8, 6)\n",
    "#plt.rcParams['font.family'] = 'serif'\n",
    "#plt.rcParams['legend.fontsize']=14\n",
    "#plt.rcParams['font.size'] = 14\n",
    "#plt.rcParams['axes.spines.right'] = False\n",
    "#plt.rcParams['axes.spines.top'] = False\n",
    "#plt.rcParams['axes.spines.left'] = True\n",
    "#plt.rcParams['axes.spines.bottom'] = True\n",
    "#plt.rcParams['axes.axisbelow'] = True"
   ]
  },
  {
   "cell_type": "code",
   "execution_count": 486,
   "metadata": {},
   "outputs": [],
   "source": [
    "reader = vtkXMLUnstructuredGridReader()\n",
    "reader.SetFileName(\"mesh.vtu\")\n",
    "reader.Update()\n",
    "output = reader.GetOutput()\n",
    "p = output.GetPointData()\n",
    "points = vtk_to_numpy(output.GetPoints().GetData())"
   ]
  },
  {
   "cell_type": "code",
   "execution_count": 487,
   "metadata": {},
   "outputs": [],
   "source": [
    "r = np.linspace(0,50)"
   ]
  },
  {
   "cell_type": "code",
   "execution_count": 488,
   "metadata": {},
   "outputs": [],
   "source": [
    "def f(x):\n",
    "    return 2.5*np.exp(-x*x/73)"
   ]
  },
  {
   "cell_type": "code",
   "execution_count": 489,
   "metadata": {},
   "outputs": [],
   "source": [
    "press = np.zeros(len(points))\n",
    "for i in range(len(points)):\n",
    "    r=np.sqrt(points[i][0]*points[i][0]+points[i][1]*points[i][1]+points[i][2]*points[i][2])\n",
    "    press[i] = f(r)"
   ]
  },
  {
   "cell_type": "code",
   "execution_count": null,
   "metadata": {},
   "outputs": [],
   "source": []
  },
  {
   "cell_type": "code",
   "execution_count": 490,
   "metadata": {},
   "outputs": [],
   "source": [
    "p.AddArray(numpy_to_vtk(press))\n",
    "p.GetArray(0).SetName(\"pressure\")"
   ]
  },
  {
   "cell_type": "code",
   "execution_count": 491,
   "metadata": {},
   "outputs": [
    {
     "data": {
      "text/plain": [
       "1"
      ]
     },
     "execution_count": 491,
     "metadata": {},
     "output_type": "execute_result"
    }
   ],
   "source": [
    "writer = vtkXMLUnstructuredGridWriter()\n",
    "writer.SetFileName(\"mesh.vtu\")\n",
    "writer.SetInputData(output)\n",
    "writer.Write()"
   ]
  },
  {
   "cell_type": "code",
   "execution_count": 492,
   "metadata": {},
   "outputs": [],
   "source": [
    "reader = vtkXMLUnstructuredGridReader()\n",
    "reader.SetFileName(\"mesh.vtu\")\n",
    "reader.Update()\n",
    "output = reader.GetOutput()\n",
    "pressure_vtk = vtk_to_numpy(output.GetPointData().GetArray(0))\n",
    "points = vtk_to_numpy(output.GetPoints().GetData())"
   ]
  },
  {
   "cell_type": "code",
   "execution_count": 493,
   "metadata": {},
   "outputs": [],
   "source": [
    "import pandas as pd"
   ]
  },
  {
   "cell_type": "code",
   "execution_count": 494,
   "metadata": {},
   "outputs": [],
   "source": [
    "df = pd.DataFrame(points)"
   ]
  },
  {
   "cell_type": "code",
   "execution_count": 495,
   "metadata": {},
   "outputs": [],
   "source": [
    "df[\"pressure\"] = pressure_vtk"
   ]
  },
  {
   "cell_type": "code",
   "execution_count": null,
   "metadata": {},
   "outputs": [],
   "source": []
  },
  {
   "cell_type": "code",
   "execution_count": 496,
   "metadata": {},
   "outputs": [
    {
     "data": {
      "text/plain": [
       "[<matplotlib.lines.Line2D at 0x7f2d287de790>]"
      ]
     },
     "execution_count": 496,
     "metadata": {},
     "output_type": "execute_result"
    },
    {
     "data": {
      "image/png": "[encoded data removed]",
      "text/plain": [
       "<Figure size 576x432 with 1 Axes>"
      ]
     },
     "metadata": {
      "needs_background": "light"
     },
     "output_type": "display_data"
    }
   ],
   "source": [
    "plt.plot(df[(df[0]==df[1]) & (df[1]==df[2])][\"pressure\"])\n",
    "plt.plot(df[(df[0]<0.001) & (df[1]<0.001)][\"pressure\"])"
   ]
  },
  {
   "cell_type": "markdown",
   "metadata": {},
   "source": [
    "## 10 random points within l_i=10"
   ]
  },
  {
   "cell_type": "code",
   "execution_count": 497,
   "metadata": {},
   "outputs": [],
   "source": [
    "x_interpol = np.random.rand(numofinterpolneighbors)*50\n",
    "y_interpol = np.random.rand(numofinterpolneighbors)*50\n",
    "z_interpol = np.random.rand(numofinterpolneighbors)*50"
   ]
  },
  {
   "cell_type": "code",
   "execution_count": 498,
   "metadata": {},
   "outputs": [
    {
     "data": {
      "text/plain": [
       "array([18.71525375, 31.60907672, 13.09497322, 46.94430979,  1.92584909,\n",
       "        4.35256084, 41.74381754, 26.17027804,  6.53743922, 29.15858284])"
      ]
     },
     "execution_count": 498,
     "metadata": {},
     "output_type": "execute_result"
    }
   ],
   "source": [
    "x_interpol"
   ]
  },
  {
   "cell_type": "code",
   "execution_count": 499,
   "metadata": {},
   "outputs": [],
   "source": [
    "points_interpol=np.column_stack((x_interpol, y_interpol, z_interpol))"
   ]
  },
  {
   "cell_type": "code",
   "execution_count": 500,
   "metadata": {},
   "outputs": [
    {
     "data": {
      "text/plain": [
       "18.935128027913116"
      ]
     },
     "execution_count": 500,
     "metadata": {},
     "output_type": "execute_result"
    }
   ],
   "source": [
    "points_interpol[1][1]"
   ]
  },
  {
   "cell_type": "code",
   "execution_count": 501,
   "metadata": {},
   "outputs": [
    {
     "data": {
      "text/plain": [
       "10"
      ]
     },
     "execution_count": 501,
     "metadata": {},
     "output_type": "execute_result"
    }
   ],
   "source": [
    "len(points_interpol)"
   ]
  },
  {
   "cell_type": "markdown",
   "metadata": {},
   "source": [
    "Get adjacent points"
   ]
  },
  {
   "cell_type": "code",
   "execution_count": null,
   "metadata": {},
   "outputs": [],
   "source": []
  },
  {
   "cell_type": "code",
   "execution_count": 502,
   "metadata": {},
   "outputs": [],
   "source": [
    "time_dict={}"
   ]
  },
  {
   "cell_type": "code",
   "execution_count": 503,
   "metadata": {},
   "outputs": [],
   "source": [
    "a = time.time()"
   ]
  },
  {
   "cell_type": "code",
   "execution_count": 504,
   "metadata": {},
   "outputs": [],
   "source": [
    "def getNeighbors(points_interpol, df):\n",
    "    neighbors = {}\n",
    "    for i in range(len(points_interpol)):\n",
    "        df[\"r_\"+str(i)]=(df[0]-points_interpol[i][0])*(df[0]-points_interpol[i][0])+(df[1]-points_interpol[i][1])*(df[1]-points_interpol[i][1])+(df[2]-points_interpol[i][2])*(df[2]-points_interpol[i][2])\n",
    "        neighbors[i] = df.sort_values(by=[\"r_\"+str(i)]).head(14).index\n",
    "    return neighbors"
   ]
  },
  {
   "cell_type": "code",
   "execution_count": null,
   "metadata": {},
   "outputs": [],
   "source": []
  },
  {
   "cell_type": "code",
   "execution_count": 505,
   "metadata": {},
   "outputs": [],
   "source": [
    "nb = getNeighbors(points_interpol, df)"
   ]
  },
  {
   "cell_type": "code",
   "execution_count": 506,
   "metadata": {},
   "outputs": [
    {
     "data": {
      "text/plain": [
       "{0: Int64Index([110740, 110739, 110791, 108139, 113341, 110790, 110689, 108138,\n",
       "             113340, 110741, 108190, 113392, 110688, 108189],\n",
       "            dtype='int64'),\n",
       " 1: Int64Index([11405, 11404, 14006, 14005, 11354, 11353, 11456, 13955, 11455,\n",
       "             13954, 14057, 14056,  8804, 11406],\n",
       "            dtype='int64'),\n",
       " 2: Int64Index([101503, 101554, 101504, 104104,  98902, 101502, 101452, 101555,\n",
       "             104155, 104105,  98953, 101553,  98903, 104103],\n",
       "            dtype='int64'),\n",
       " 3: Int64Index([60788, 60839, 63389, 60787, 63440, 60838, 60789, 58187, 60840,\n",
       "             58238, 63388, 63439, 60737, 63390],\n",
       "            dtype='int64'),\n",
       " 4: Int64Index([89099, 91700, 89048, 91649, 89098, 91699, 89100, 89047, 91701,\n",
       "             91648, 89049, 91650, 89150, 91751],\n",
       "            dtype='int64'),\n",
       " 5: Int64Index([ 98587,  98588,  98638,  95986,  98639,  95987,  96037,  96038,\n",
       "             101188,  98536,  98586, 101189,  98537, 101239],\n",
       "            dtype='int64'),\n",
       " 6: Int64Index([110406, 110355, 110405, 113007, 110354, 112956, 113006, 107805,\n",
       "             112955, 110407, 110457, 107754, 107804, 110356],\n",
       "            dtype='int64'),\n",
       " 7: Int64Index([116663, 116612, 116664, 114062, 116613, 114011, 119264, 116662,\n",
       "             114063, 116714, 119213, 116611, 114012, 119265],\n",
       "            dtype='int64'),\n",
       " 8: Int64Index([77374, 77373, 77323, 77322, 74773, 74772, 74722, 74721, 79975,\n",
       "             79974, 77425, 77424, 79924, 77375],\n",
       "            dtype='int64'),\n",
       " 9: Int64Index([27314, 29915, 27315, 27263, 29916, 29864, 27365, 27313, 29966,\n",
       "             29914, 27264, 29865, 24713, 27366],\n",
       "            dtype='int64')}"
      ]
     },
     "execution_count": 506,
     "metadata": {},
     "output_type": "execute_result"
    }
   ],
   "source": [
    "nb"
   ]
  },
  {
   "cell_type": "code",
   "execution_count": 507,
   "metadata": {},
   "outputs": [],
   "source": [
    "b= time.time()\n",
    "time_dict[\"neighbor search\"] = b-a"
   ]
  },
  {
   "cell_type": "markdown",
   "metadata": {},
   "source": [
    "## Grid method neighbor + linear interpol"
   ]
  },
  {
   "cell_type": "code",
   "execution_count": 508,
   "metadata": {},
   "outputs": [],
   "source": [
    "a = time.time()"
   ]
  },
  {
   "cell_type": "code",
   "execution_count": 509,
   "metadata": {},
   "outputs": [],
   "source": [
    "resp_n = []\n",
    "resp_l = []"
   ]
  },
  {
   "cell_type": "code",
   "execution_count": 510,
   "metadata": {},
   "outputs": [],
   "source": [
    "for i,_ in enumerate(x_interpol):\n",
    "    grid_x, grid_y, grid_z = np.mgrid[x_interpol[i]:(x_interpol[i]+0.1):1, y_interpol[i]:(y_interpol[i]+0.1):1, z_interpol[i]:(z_interpol[i]+0.1):]\n",
    "    resp_n.append(griddata(points[nb[i]], pressure_vtk[nb[i]], (grid_x, grid_y, grid_z), method='nearest')[0][0][0])\n",
    "    resp_l.append(griddata(points[nb[i]], pressure_vtk[nb[i]], (grid_x, grid_y, grid_z), method='linear')[0][0][0])"
   ]
  },
  {
   "cell_type": "code",
   "execution_count": 511,
   "metadata": {},
   "outputs": [],
   "source": [
    "b= time.time()\n",
    "time_dict[\"grid interpol\"] = b-a"
   ]
  },
  {
   "cell_type": "code",
   "execution_count": 512,
   "metadata": {},
   "outputs": [],
   "source": [
    "resp_ana = f(np.sqrt((x_interpol*x_interpol+y_interpol*y_interpol+z_interpol*z_interpol)))"
   ]
  },
  {
   "cell_type": "code",
   "execution_count": 513,
   "metadata": {},
   "outputs": [
    {
     "data": {
      "text/plain": [
       "[5.655821787175936e-18,\n",
       " 1.1562599947424437e-08,\n",
       " 2.1765871012692683e-10,\n",
       " 1.518338927295272e-18,\n",
       " 3.100278740600838e-08,\n",
       " 3.712381465595856e-21,\n",
       " 3.385253707735704e-24,\n",
       " 7.217431932529809e-27,\n",
       " 3.253981404314925e-14,\n",
       " 1.2062323896372312e-09]"
      ]
     },
     "execution_count": 513,
     "metadata": {},
     "output_type": "execute_result"
    }
   ],
   "source": [
    "resp_n"
   ]
  },
  {
   "cell_type": "code",
   "execution_count": 514,
   "metadata": {},
   "outputs": [
    {
     "data": {
      "text/plain": [
       "[6.347096523247135e-18,\n",
       " 1.7757303693588097e-08,\n",
       " 1.9936913168052444e-10,\n",
       " 1.3542673993063e-18,\n",
       " 2.4131322526414304e-08,\n",
       " 4.426856803430931e-21,\n",
       " 5.213686622376216e-24,\n",
       " 1.2881729032524841e-26,\n",
       " 5.821929574980145e-14,\n",
       " 1.0765270577115117e-09]"
      ]
     },
     "execution_count": 514,
     "metadata": {},
     "output_type": "execute_result"
    }
   ],
   "source": [
    "resp_l"
   ]
  },
  {
   "cell_type": "code",
   "execution_count": 515,
   "metadata": {},
   "outputs": [
    {
     "data": {
      "text/plain": [
       "[<matplotlib.lines.Line2D at 0x7f2d2874a3d0>]"
      ]
     },
     "execution_count": 515,
     "metadata": {},
     "output_type": "execute_result"
    },
    {
     "data": {
      "image/png": "[encoded data removed]",
      "text/plain": [
       "<Figure size 576x432 with 1 Axes>"
      ]
     },
     "metadata": {
      "needs_background": "light"
     },
     "output_type": "display_data"
    }
   ],
   "source": [
    "plt.plot(resp_n/resp_ana)\n",
    "plt.plot(resp_l/resp_ana)"
   ]
  },
  {
   "cell_type": "code",
   "execution_count": null,
   "metadata": {},
   "outputs": [],
   "source": []
  },
  {
   "cell_type": "markdown",
   "metadata": {},
   "source": [
    "# all at once:"
   ]
  },
  {
   "cell_type": "code",
   "execution_count": 516,
   "metadata": {},
   "outputs": [],
   "source": [
    "a = time.time()"
   ]
  },
  {
   "cell_type": "code",
   "execution_count": 517,
   "metadata": {},
   "outputs": [],
   "source": [
    "ker = gpy.kern.Matern52(3,ARD=True)"
   ]
  },
  {
   "cell_type": "code",
   "execution_count": 518,
   "metadata": {},
   "outputs": [],
   "source": [
    "new_nb = []\n",
    "for i in nb:\n",
    "    for j in range(len(nb[i])):\n",
    "        new_nb.append(nb[i][j])"
   ]
  },
  {
   "cell_type": "code",
   "execution_count": 519,
   "metadata": {},
   "outputs": [],
   "source": [
    "pressure_vtk_ = np.zeros((len(pressure_vtk[new_nb]),1), dtype=np.float32)\n",
    "pressure_vtk_[:,0] = pressure_vtk[new_nb] "
   ]
  },
  {
   "cell_type": "code",
   "execution_count": null,
   "metadata": {},
   "outputs": [],
   "source": []
  },
  {
   "cell_type": "code",
   "execution_count": 520,
   "metadata": {},
   "outputs": [],
   "source": [
    "m = gpy.models.GPRegression(points[new_nb],pressure_vtk_, ker, noise_var=1.e-10)"
   ]
  },
  {
   "cell_type": "code",
   "execution_count": 521,
   "metadata": {},
   "outputs": [
    {
     "data": {
      "text/plain": [
       "<paramz.optimization.optimization.opt_SCG at 0x7f2d286fa9a0>"
      ]
     },
     "execution_count": 521,
     "metadata": {},
     "output_type": "execute_result"
    }
   ],
   "source": [
    "m.optimize(optimizer='scg', messages=False, max_iters = 1000)"
   ]
  },
  {
   "cell_type": "code",
   "execution_count": 522,
   "metadata": {},
   "outputs": [],
   "source": [
    "resp_gpy = m.predict(points_interpol)"
   ]
  },
  {
   "cell_type": "code",
   "execution_count": 523,
   "metadata": {},
   "outputs": [
    {
     "data": {
      "text/plain": [
       "array([1.42322197e-18, 3.06997969e-18, 2.23425919e-18, 1.15471729e-18,\n",
       "       3.75681676e-18, 6.84948404e-19, 5.95224573e-19, 5.05594959e-19,\n",
       "       1.34233320e-18, 2.76970190e-18])"
      ]
     },
     "execution_count": 523,
     "metadata": {},
     "output_type": "execute_result"
    }
   ],
   "source": [
    "resp_gpy[0][:,0]"
   ]
  },
  {
   "cell_type": "code",
   "execution_count": 524,
   "metadata": {},
   "outputs": [],
   "source": [
    "b= time.time()\n",
    "time_dict[\"GPy1\"] = b-a"
   ]
  },
  {
   "cell_type": "code",
   "execution_count": 525,
   "metadata": {},
   "outputs": [
    {
     "data": {
      "text/plain": [
       "Int64Index([11405, 11404, 14006, 14005, 11354, 11353, 11456, 13955, 11455,\n",
       "            13954, 14057, 14056,  8804, 11406],\n",
       "           dtype='int64')"
      ]
     },
     "execution_count": 525,
     "metadata": {},
     "output_type": "execute_result"
    }
   ],
   "source": [
    "nb[1]"
   ]
  },
  {
   "cell_type": "code",
   "execution_count": 526,
   "metadata": {},
   "outputs": [],
   "source": [
    "a = time.time()"
   ]
  },
  {
   "cell_type": "code",
   "execution_count": 527,
   "metadata": {},
   "outputs": [],
   "source": [
    "m2 = {}\n",
    "resp_gpy2 = []\n",
    "for i in range(len(points_interpol)):\n",
    "    pressure_vtk_ = np.zeros((len(pressure_vtk[nb[i]]),1), dtype=np.float64)\n",
    "    pressure_vtk_[:,0] = pressure_vtk[nb[i]]\n",
    "    ker = gpy.kern.Matern52(3,ARD=True)\n",
    "    m2[i] = gpy.models.GPRegression(points[nb[i]],pressure_vtk_, ker, noise_var=1.e-10)\n",
    "    m2[i].optimize(optimizer='scg', messages=False, max_iters = 1000)\n",
    "    y = np.zeros((1,3))\n",
    "    y[0,:] = points_interpol[i]\n",
    "    resp_gpy2.append(m2[i].predict(y)[0][0][0])"
   ]
  },
  {
   "cell_type": "code",
   "execution_count": 528,
   "metadata": {},
   "outputs": [],
   "source": [
    "b= time.time()\n",
    "time_dict[\"GPy2\"] = b-a"
   ]
  },
  {
   "cell_type": "code",
   "execution_count": 529,
   "metadata": {},
   "outputs": [
    {
     "data": {
      "text/plain": [
       "[4.1130640887406687e-20,\n",
       " 5.565764169701583e-11,\n",
       " 1.0976723803972706e-12,\n",
       " 7.794406158000796e-21,\n",
       " 7.36807784718977e-11,\n",
       " 2.026063192497279e-23,\n",
       " 3.706232945962186e-26,\n",
       " 8.354925133663944e-29,\n",
       " 3.106584934017083e-16,\n",
       " 5.190155258260845e-12]"
      ]
     },
     "execution_count": 529,
     "metadata": {},
     "output_type": "execute_result"
    }
   ],
   "source": [
    "resp_gpy2"
   ]
  },
  {
   "cell_type": "code",
   "execution_count": 530,
   "metadata": {},
   "outputs": [
    {
     "data": {
      "text/plain": [
       "[<matplotlib.lines.Line2D at 0x7f2d28692ac0>]"
      ]
     },
     "execution_count": 530,
     "metadata": {},
     "output_type": "execute_result"
    },
    {
     "data": {
      "image/png": "[encoded data removed]",
      "text/plain": [
       "<Figure size 576x432 with 1 Axes>"
      ]
     },
     "metadata": {
      "needs_background": "light"
     },
     "output_type": "display_data"
    }
   ],
   "source": [
    "plt.plot((resp_n-resp_ana))\n",
    "plt.plot((resp_l-resp_ana))\n",
    "plt.plot((resp_gpy[0][:,0]-resp_ana))\n",
    "plt.plot((resp_gpy2-resp_ana))"
   ]
  },
  {
   "cell_type": "code",
   "execution_count": 531,
   "metadata": {},
   "outputs": [
    {
     "data": {
      "text/plain": [
       "array([-4.44485276e-18, -1.61170016e-08, -1.93582498e-10, -9.87811444e-20,\n",
       "       -2.28158765e-08,  6.81698540e-19,  5.95220240e-19,  5.05594949e-19,\n",
       "       -5.28632676e-14, -1.00419124e-09])"
      ]
     },
     "execution_count": 531,
     "metadata": {},
     "output_type": "execute_result"
    }
   ],
   "source": [
    "(resp_gpy[0][:,0]-resp_ana)"
   ]
  },
  {
   "cell_type": "code",
   "execution_count": 532,
   "metadata": {},
   "outputs": [
    {
     "data": {
      "text/plain": [
       "array([5.86807473e-18, 1.61170016e-08, 1.93582501e-10, 1.25349843e-18,\n",
       "       2.28158765e-08, 3.24986338e-21, 4.33328716e-24, 1.00698613e-26,\n",
       "       5.28646099e-14, 1.00419124e-09])"
      ]
     },
     "execution_count": 532,
     "metadata": {},
     "output_type": "execute_result"
    }
   ],
   "source": [
    "resp_ana"
   ]
  },
  {
   "cell_type": "code",
   "execution_count": 533,
   "metadata": {},
   "outputs": [
    {
     "data": {
      "text/plain": [
       "[<matplotlib.lines.Line2D at 0x7f2d2866fc70>]"
      ]
     },
     "execution_count": 533,
     "metadata": {},
     "output_type": "execute_result"
    },
    {
     "data": {
      "image/png": "[encoded data removed]",
      "text/plain": [
       "<Figure size 576x432 with 1 Axes>"
      ]
     },
     "metadata": {
      "needs_background": "light"
     },
     "output_type": "display_data"
    }
   ],
   "source": [
    "plt.plot(resp_n)\n",
    "plt.plot(resp_l)\n",
    "plt.plot(resp_gpy[0][:,0])\n",
    "plt.plot(resp_gpy2)"
   ]
  },
  {
   "cell_type": "markdown",
   "metadata": {},
   "source": [
    "## Errors:"
   ]
  },
  {
   "cell_type": "code",
   "execution_count": 534,
   "metadata": {},
   "outputs": [
    {
     "data": {
      "text/plain": [
       "2.938036782343206e-09"
      ]
     },
     "execution_count": 534,
     "metadata": {},
     "output_type": "execute_result"
    }
   ],
   "source": [
    "(resp_n-resp_ana).std()"
   ]
  },
  {
   "cell_type": "code",
   "execution_count": 535,
   "metadata": {},
   "outputs": [
    {
     "data": {
      "text/plain": [
       "5.920992217976312e-10"
      ]
     },
     "execution_count": 535,
     "metadata": {},
     "output_type": "execute_result"
    }
   ],
   "source": [
    "(resp_l-resp_ana).std()"
   ]
  },
  {
   "cell_type": "code",
   "execution_count": 536,
   "metadata": {},
   "outputs": [
    {
     "data": {
      "text/plain": [
       "7.876042712272646e-09"
      ]
     },
     "execution_count": 536,
     "metadata": {},
     "output_type": "execute_result"
    }
   ],
   "source": [
    "(resp_gpy[0][:,0]-resp_ana).std()"
   ]
  },
  {
   "cell_type": "code",
   "execution_count": 537,
   "metadata": {},
   "outputs": [
    {
     "data": {
      "text/plain": [
       "7.850150704944159e-09"
      ]
     },
     "execution_count": 537,
     "metadata": {},
     "output_type": "execute_result"
    }
   ],
   "source": [
    "(resp_gpy2-resp_ana).std()"
   ]
  },
  {
   "cell_type": "markdown",
   "metadata": {},
   "source": [
    "## Time:"
   ]
  },
  {
   "cell_type": "code",
   "execution_count": 538,
   "metadata": {},
   "outputs": [
    {
     "data": {
      "text/plain": [
       "{'neighbor search': 0.2154088020324707,\n",
       " 'grid interpol': 0.024600982666015625,\n",
       " 'GPy1': 0.21864104270935059,\n",
       " 'GPy2': 0.5571577548980713}"
      ]
     },
     "execution_count": 538,
     "metadata": {},
     "output_type": "execute_result"
    }
   ],
   "source": [
    "time_dict"
   ]
  },
  {
   "cell_type": "code",
   "execution_count": null,
   "metadata": {},
   "outputs": [],
   "source": []
  }
 ],
 "metadata": {
  "kernelspec": {
   "display_name": "Python 3",
   "language": "python",
   "name": "python3"
  },
  "language_info": {
   "codemirror_mode": {
    "name": "ipython",
    "version": 3
   },
   "file_extension": ".py",
   "mimetype": "text/x-python",
   "name": "python",
   "nbconvert_exporter": "python",
   "pygments_lexer": "ipython3",
   "version": "3.8.5"
  }
 },
 "nbformat": 4,
 "nbformat_minor": 4
}
